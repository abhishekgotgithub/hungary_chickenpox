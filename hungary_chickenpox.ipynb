{
 "cells": [
  {
   "cell_type": "markdown",
   "metadata": {},
   "source": [
    "source http://archive.ics.uci.edu/ml/datasets/Hungarian+Chickenpox+Cases"
   ]
  },
  {
   "cell_type": "code",
   "execution_count": 3,
   "metadata": {},
   "outputs": [],
   "source": [
    "import numpy as np\n",
    "import pandas as pd\n",
    "import matplotlib.pyplot as plt\n",
    "import seaborn as sns"
   ]
  },
  {
   "cell_type": "code",
   "execution_count": 4,
   "metadata": {},
   "outputs": [],
   "source": [
    "df= pd.read_csv('C:/Users/Admin/Desktop/daily practise/6 june/hungary_chickenpox/hungary_chickenpox.csv')"
   ]
  },
  {
   "cell_type": "code",
   "execution_count": 5,
   "metadata": {},
   "outputs": [],
   "source": [
    "df1= pd.read_csv('C:/Users/Admin/Desktop/daily practise/6 june/hungary_chickenpox/hungary_county_edges.csv')"
   ]
  },
  {
   "cell_type": "code",
   "execution_count": 6,
   "metadata": {},
   "outputs": [
    {
     "data": {
      "text/html": [
       "<div>\n",
       "<style scoped>\n",
       "    .dataframe tbody tr th:only-of-type {\n",
       "        vertical-align: middle;\n",
       "    }\n",
       "\n",
       "    .dataframe tbody tr th {\n",
       "        vertical-align: top;\n",
       "    }\n",
       "\n",
       "    .dataframe thead th {\n",
       "        text-align: right;\n",
       "    }\n",
       "</style>\n",
       "<table border=\"1\" class=\"dataframe\">\n",
       "  <thead>\n",
       "    <tr style=\"text-align: right;\">\n",
       "      <th></th>\n",
       "      <th>Date</th>\n",
       "      <th>BUDAPEST</th>\n",
       "      <th>BARANYA</th>\n",
       "      <th>BACS</th>\n",
       "      <th>BEKES</th>\n",
       "      <th>BORSOD</th>\n",
       "      <th>CSONGRAD</th>\n",
       "      <th>FEJER</th>\n",
       "      <th>GYOR</th>\n",
       "      <th>HAJDU</th>\n",
       "      <th>...</th>\n",
       "      <th>JASZ</th>\n",
       "      <th>KOMAROM</th>\n",
       "      <th>NOGRAD</th>\n",
       "      <th>PEST</th>\n",
       "      <th>SOMOGY</th>\n",
       "      <th>SZABOLCS</th>\n",
       "      <th>TOLNA</th>\n",
       "      <th>VAS</th>\n",
       "      <th>VESZPREM</th>\n",
       "      <th>ZALA</th>\n",
       "    </tr>\n",
       "  </thead>\n",
       "  <tbody>\n",
       "    <tr>\n",
       "      <th>0</th>\n",
       "      <td>03/01/2005</td>\n",
       "      <td>168</td>\n",
       "      <td>79</td>\n",
       "      <td>30</td>\n",
       "      <td>173</td>\n",
       "      <td>169</td>\n",
       "      <td>42</td>\n",
       "      <td>136</td>\n",
       "      <td>120</td>\n",
       "      <td>162</td>\n",
       "      <td>...</td>\n",
       "      <td>130</td>\n",
       "      <td>57</td>\n",
       "      <td>2</td>\n",
       "      <td>178</td>\n",
       "      <td>66</td>\n",
       "      <td>64</td>\n",
       "      <td>11</td>\n",
       "      <td>29</td>\n",
       "      <td>87</td>\n",
       "      <td>68</td>\n",
       "    </tr>\n",
       "    <tr>\n",
       "      <th>1</th>\n",
       "      <td>10/01/2005</td>\n",
       "      <td>157</td>\n",
       "      <td>60</td>\n",
       "      <td>30</td>\n",
       "      <td>92</td>\n",
       "      <td>200</td>\n",
       "      <td>53</td>\n",
       "      <td>51</td>\n",
       "      <td>70</td>\n",
       "      <td>84</td>\n",
       "      <td>...</td>\n",
       "      <td>80</td>\n",
       "      <td>50</td>\n",
       "      <td>29</td>\n",
       "      <td>141</td>\n",
       "      <td>48</td>\n",
       "      <td>29</td>\n",
       "      <td>58</td>\n",
       "      <td>53</td>\n",
       "      <td>68</td>\n",
       "      <td>26</td>\n",
       "    </tr>\n",
       "    <tr>\n",
       "      <th>2</th>\n",
       "      <td>17/01/2005</td>\n",
       "      <td>96</td>\n",
       "      <td>44</td>\n",
       "      <td>31</td>\n",
       "      <td>86</td>\n",
       "      <td>93</td>\n",
       "      <td>30</td>\n",
       "      <td>93</td>\n",
       "      <td>84</td>\n",
       "      <td>191</td>\n",
       "      <td>...</td>\n",
       "      <td>64</td>\n",
       "      <td>46</td>\n",
       "      <td>4</td>\n",
       "      <td>157</td>\n",
       "      <td>33</td>\n",
       "      <td>33</td>\n",
       "      <td>24</td>\n",
       "      <td>18</td>\n",
       "      <td>62</td>\n",
       "      <td>44</td>\n",
       "    </tr>\n",
       "    <tr>\n",
       "      <th>3</th>\n",
       "      <td>24/01/2005</td>\n",
       "      <td>163</td>\n",
       "      <td>49</td>\n",
       "      <td>43</td>\n",
       "      <td>126</td>\n",
       "      <td>46</td>\n",
       "      <td>39</td>\n",
       "      <td>52</td>\n",
       "      <td>114</td>\n",
       "      <td>107</td>\n",
       "      <td>...</td>\n",
       "      <td>63</td>\n",
       "      <td>54</td>\n",
       "      <td>14</td>\n",
       "      <td>107</td>\n",
       "      <td>66</td>\n",
       "      <td>50</td>\n",
       "      <td>25</td>\n",
       "      <td>21</td>\n",
       "      <td>43</td>\n",
       "      <td>31</td>\n",
       "    </tr>\n",
       "    <tr>\n",
       "      <th>4</th>\n",
       "      <td>31/01/2005</td>\n",
       "      <td>122</td>\n",
       "      <td>78</td>\n",
       "      <td>53</td>\n",
       "      <td>87</td>\n",
       "      <td>103</td>\n",
       "      <td>34</td>\n",
       "      <td>95</td>\n",
       "      <td>131</td>\n",
       "      <td>172</td>\n",
       "      <td>...</td>\n",
       "      <td>61</td>\n",
       "      <td>49</td>\n",
       "      <td>11</td>\n",
       "      <td>124</td>\n",
       "      <td>63</td>\n",
       "      <td>56</td>\n",
       "      <td>7</td>\n",
       "      <td>47</td>\n",
       "      <td>85</td>\n",
       "      <td>60</td>\n",
       "    </tr>\n",
       "  </tbody>\n",
       "</table>\n",
       "<p>5 rows × 21 columns</p>\n",
       "</div>"
      ],
      "text/plain": [
       "         Date  BUDAPEST  BARANYA  BACS  BEKES  BORSOD  CSONGRAD  FEJER  GYOR  \\\n",
       "0  03/01/2005       168       79    30    173     169        42    136   120   \n",
       "1  10/01/2005       157       60    30     92     200        53     51    70   \n",
       "2  17/01/2005        96       44    31     86      93        30     93    84   \n",
       "3  24/01/2005       163       49    43    126      46        39     52   114   \n",
       "4  31/01/2005       122       78    53     87     103        34     95   131   \n",
       "\n",
       "   HAJDU  ...  JASZ  KOMAROM  NOGRAD  PEST  SOMOGY  SZABOLCS  TOLNA  VAS  \\\n",
       "0    162  ...   130       57       2   178      66        64     11   29   \n",
       "1     84  ...    80       50      29   141      48        29     58   53   \n",
       "2    191  ...    64       46       4   157      33        33     24   18   \n",
       "3    107  ...    63       54      14   107      66        50     25   21   \n",
       "4    172  ...    61       49      11   124      63        56      7   47   \n",
       "\n",
       "   VESZPREM  ZALA  \n",
       "0        87    68  \n",
       "1        68    26  \n",
       "2        62    44  \n",
       "3        43    31  \n",
       "4        85    60  \n",
       "\n",
       "[5 rows x 21 columns]"
      ]
     },
     "execution_count": 6,
     "metadata": {},
     "output_type": "execute_result"
    }
   ],
   "source": [
    "df.head()"
   ]
  },
  {
   "cell_type": "code",
   "execution_count": 7,
   "metadata": {},
   "outputs": [
    {
     "data": {
      "text/html": [
       "<div>\n",
       "<style scoped>\n",
       "    .dataframe tbody tr th:only-of-type {\n",
       "        vertical-align: middle;\n",
       "    }\n",
       "\n",
       "    .dataframe tbody tr th {\n",
       "        vertical-align: top;\n",
       "    }\n",
       "\n",
       "    .dataframe thead th {\n",
       "        text-align: right;\n",
       "    }\n",
       "</style>\n",
       "<table border=\"1\" class=\"dataframe\">\n",
       "  <thead>\n",
       "    <tr style=\"text-align: right;\">\n",
       "      <th></th>\n",
       "      <th>name_1</th>\n",
       "      <th>name_2</th>\n",
       "      <th>id_1</th>\n",
       "      <th>id_2</th>\n",
       "    </tr>\n",
       "  </thead>\n",
       "  <tbody>\n",
       "    <tr>\n",
       "      <th>0</th>\n",
       "      <td>BACS</td>\n",
       "      <td>JASZ</td>\n",
       "      <td>0</td>\n",
       "      <td>10</td>\n",
       "    </tr>\n",
       "    <tr>\n",
       "      <th>1</th>\n",
       "      <td>BACS</td>\n",
       "      <td>BACS</td>\n",
       "      <td>0</td>\n",
       "      <td>0</td>\n",
       "    </tr>\n",
       "    <tr>\n",
       "      <th>2</th>\n",
       "      <td>BACS</td>\n",
       "      <td>BARANYA</td>\n",
       "      <td>0</td>\n",
       "      <td>1</td>\n",
       "    </tr>\n",
       "    <tr>\n",
       "      <th>3</th>\n",
       "      <td>BACS</td>\n",
       "      <td>CSONGRAD</td>\n",
       "      <td>0</td>\n",
       "      <td>5</td>\n",
       "    </tr>\n",
       "    <tr>\n",
       "      <th>4</th>\n",
       "      <td>BACS</td>\n",
       "      <td>PEST</td>\n",
       "      <td>0</td>\n",
       "      <td>13</td>\n",
       "    </tr>\n",
       "  </tbody>\n",
       "</table>\n",
       "</div>"
      ],
      "text/plain": [
       "  name_1    name_2  id_1  id_2\n",
       "0   BACS      JASZ     0    10\n",
       "1   BACS      BACS     0     0\n",
       "2   BACS   BARANYA     0     1\n",
       "3   BACS  CSONGRAD     0     5\n",
       "4   BACS      PEST     0    13"
      ]
     },
     "execution_count": 7,
     "metadata": {},
     "output_type": "execute_result"
    }
   ],
   "source": [
    "df1.head()"
   ]
  },
  {
   "cell_type": "code",
   "execution_count": 8,
   "metadata": {},
   "outputs": [
    {
     "name": "stdout",
     "output_type": "stream",
     "text": [
      "<class 'pandas.core.frame.DataFrame'>\n",
      "RangeIndex: 522 entries, 0 to 521\n",
      "Data columns (total 21 columns):\n",
      " #   Column    Non-Null Count  Dtype \n",
      "---  ------    --------------  ----- \n",
      " 0   Date      522 non-null    object\n",
      " 1   BUDAPEST  522 non-null    int64 \n",
      " 2   BARANYA   522 non-null    int64 \n",
      " 3   BACS      522 non-null    int64 \n",
      " 4   BEKES     522 non-null    int64 \n",
      " 5   BORSOD    522 non-null    int64 \n",
      " 6   CSONGRAD  522 non-null    int64 \n",
      " 7   FEJER     522 non-null    int64 \n",
      " 8   GYOR      522 non-null    int64 \n",
      " 9   HAJDU     522 non-null    int64 \n",
      " 10  HEVES     522 non-null    int64 \n",
      " 11  JASZ      522 non-null    int64 \n",
      " 12  KOMAROM   522 non-null    int64 \n",
      " 13  NOGRAD    522 non-null    int64 \n",
      " 14  PEST      522 non-null    int64 \n",
      " 15  SOMOGY    522 non-null    int64 \n",
      " 16  SZABOLCS  522 non-null    int64 \n",
      " 17  TOLNA     522 non-null    int64 \n",
      " 18  VAS       522 non-null    int64 \n",
      " 19  VESZPREM  522 non-null    int64 \n",
      " 20  ZALA      522 non-null    int64 \n",
      "dtypes: int64(20), object(1)\n",
      "memory usage: 85.8+ KB\n"
     ]
    }
   ],
   "source": [
    "df.info()"
   ]
  },
  {
   "cell_type": "code",
   "execution_count": 10,
   "metadata": {},
   "outputs": [
    {
     "name": "stdout",
     "output_type": "stream",
     "text": [
      "<class 'pandas.core.frame.DataFrame'>\n",
      "RangeIndex: 102 entries, 0 to 101\n",
      "Data columns (total 4 columns):\n",
      " #   Column  Non-Null Count  Dtype \n",
      "---  ------  --------------  ----- \n",
      " 0   name_1  102 non-null    object\n",
      " 1   name_2  102 non-null    object\n",
      " 2   id_1    102 non-null    int64 \n",
      " 3   id_2    102 non-null    int64 \n",
      "dtypes: int64(2), object(2)\n",
      "memory usage: 3.3+ KB\n"
     ]
    }
   ],
   "source": [
    "df1.info()"
   ]
  },
  {
   "cell_type": "code",
   "execution_count": 11,
   "metadata": {},
   "outputs": [],
   "source": [
    "# doing analysis using numpy"
   ]
  },
  {
   "cell_type": "code",
   "execution_count": 24,
   "metadata": {},
   "outputs": [
    {
     "data": {
      "text/plain": [
       "array([[ 30, 173],\n",
       "       [ 54, 192],\n",
       "       [ 64, 174],\n",
       "       [ 57, 171],\n",
       "       [129, 217],\n",
       "       [ 81, 243],\n",
       "       [ 51, 271]], dtype=int64)"
      ]
     },
     "execution_count": 24,
     "metadata": {},
     "output_type": "execute_result"
    }
   ],
   "source": [
    "# extarct elements from df column BACS and BEKES with different condition\n",
    "arr= np.array([df['BACS'],df['BEKES']])\n",
    "a=arr.T\n",
    "a[(a[:,0]>29) & (a[:,1]>170)]"
   ]
  },
  {
   "cell_type": "code",
   "execution_count": 30,
   "metadata": {},
   "outputs": [
    {
     "data": {
      "text/plain": [
       "(522, 2)"
      ]
     },
     "execution_count": 30,
     "metadata": {},
     "output_type": "execute_result"
    }
   ],
   "source": [
    "a.shape"
   ]
  },
  {
   "cell_type": "code",
   "execution_count": 31,
   "metadata": {},
   "outputs": [
    {
     "data": {
      "text/plain": [
       "array([[ 30, 173,  30, ...,  67,  16,  23],\n",
       "       [ 29,  16,  27, ...,  11,  19,  13],\n",
       "       [ 50,   6,  52, ...,  26,   3,  53],\n",
       "       [  5,  40,   2, ...,   0,  49,  32]], dtype=int64)"
      ]
     },
     "execution_count": 31,
     "metadata": {},
     "output_type": "execute_result"
    }
   ],
   "source": [
    "# reshape the array a\n",
    "np.reshape(a,(4,-1))"
   ]
  },
  {
   "cell_type": "code",
   "execution_count": 37,
   "metadata": {},
   "outputs": [
    {
     "data": {
      "text/plain": [
       "array([[ 60, 346],\n",
       "       [108, 384],\n",
       "       [128, 348],\n",
       "       [114, 342],\n",
       "       [258, 434],\n",
       "       [162, 486],\n",
       "       [102, 542]], dtype=int64)"
      ]
     },
     "execution_count": 37,
     "metadata": {},
     "output_type": "execute_result"
    }
   ],
   "source": [
    "# apply a sclar funtion to a numpy array \n",
    "def double(a_):\n",
    "    return 2*a_\n",
    "x_double=np.vectorize(double)\n",
    "x_double(a[(a[:,0]>29) & (a[:,1]>170)])"
   ]
  },
  {
   "cell_type": "code",
   "execution_count": 39,
   "metadata": {},
   "outputs": [
    {
     "data": {
      "text/plain": [
       "array([[ 30, 173],\n",
       "       [ 30,  92],\n",
       "       [ 31,  86],\n",
       "       ...,\n",
       "       [ 15,   0],\n",
       "       [  8,   0],\n",
       "       [ 49,  32]], dtype=int64)"
      ]
     },
     "execution_count": 39,
     "metadata": {},
     "output_type": "execute_result"
    }
   ],
   "source": [
    "a"
   ]
  },
  {
   "cell_type": "code",
   "execution_count": 38,
   "metadata": {},
   "outputs": [
    {
     "data": {
      "text/plain": [
       "array([[ 30,  92],\n",
       "       [ 30, 173]], dtype=int64)"
      ]
     },
     "execution_count": 38,
     "metadata": {},
     "output_type": "execute_result"
    }
   ],
   "source": [
    "# swaping few rows of a\n",
    "a[[1,0],:]"
   ]
  },
  {
   "cell_type": "code",
   "execution_count": 41,
   "metadata": {},
   "outputs": [
    {
     "data": {
      "text/plain": [
       "array([[173,  30],\n",
       "       [ 92,  30],\n",
       "       [ 86,  31],\n",
       "       ...,\n",
       "       [  0,  15],\n",
       "       [  0,   8],\n",
       "       [ 32,  49]], dtype=int64)"
      ]
     },
     "execution_count": 41,
     "metadata": {},
     "output_type": "execute_result"
    }
   ],
   "source": [
    "# swaping few columns of a\n",
    "a[:,[1,0]]"
   ]
  },
  {
   "cell_type": "code",
   "execution_count": 44,
   "metadata": {},
   "outputs": [
    {
     "data": {
      "text/plain": [
       "array([[ 49,  32],\n",
       "       [  8,   0],\n",
       "       [ 15,   0],\n",
       "       ...,\n",
       "       [ 31,  86],\n",
       "       [ 30,  92],\n",
       "       [ 30, 173]], dtype=int64)"
      ]
     },
     "execution_count": 44,
     "metadata": {},
     "output_type": "execute_result"
    }
   ],
   "source": [
    "# reverse rows of a\n",
    "a[::-1]"
   ]
  },
  {
   "cell_type": "code",
   "execution_count": 45,
   "metadata": {},
   "outputs": [
    {
     "data": {
      "text/plain": [
       "array([[173,  30],\n",
       "       [ 92,  30],\n",
       "       [ 86,  31],\n",
       "       ...,\n",
       "       [  0,  15],\n",
       "       [  0,   8],\n",
       "       [ 32,  49]], dtype=int64)"
      ]
     },
     "execution_count": 45,
     "metadata": {},
     "output_type": "execute_result"
    }
   ],
   "source": [
    "# reverse columns of a\n",
    "a[:,::-1]"
   ]
  },
  {
   "cell_type": "code",
   "execution_count": 47,
   "metadata": {},
   "outputs": [
    {
     "name": "stderr",
     "output_type": "stream",
     "text": [
      "<ipython-input-47-94beb95c6420>:2: VisibleDeprecationWarning: Reading unicode strings without specifying the encoding argument is deprecated. Set the encoding, use None for the system default.\n",
      "  df_numpy=np.genfromtxt('C:/Users/Admin/Desktop/daily practise/6 june/hungary_chickenpox/hungary_chickenpox.csv', delimiter=',', dtype=None)\n"
     ]
    }
   ],
   "source": [
    "# import the dataset with numpy\n",
    "df_numpy=np.genfromtxt('C:/Users/Admin/Desktop/daily practise/6 june/hungary_chickenpox/hungary_chickenpox.csv', delimiter=',', dtype=None)"
   ]
  },
  {
   "cell_type": "code",
   "execution_count": 48,
   "metadata": {},
   "outputs": [
    {
     "data": {
      "text/plain": [
       "array([[b'Date', b'BUDAPEST', b'BARANYA', ..., b'VAS', b'VESZPREM',\n",
       "        b'ZALA'],\n",
       "       [b'03/01/2005', b'168', b'79', ..., b'29', b'87', b'68'],\n",
       "       [b'10/01/2005', b'157', b'60', ..., b'53', b'68', b'26'],\n",
       "       ...,\n",
       "       [b'15/12/2014', b'35', b'7', ..., b'0', b'17', b'10'],\n",
       "       [b'22/12/2014', b'30', b'23', ..., b'1', b'83', b'2'],\n",
       "       [b'29/12/2014', b'259', b'42', ..., b'11', b'103', b'25']],\n",
       "      dtype='|S10')"
      ]
     },
     "execution_count": 48,
     "metadata": {},
     "output_type": "execute_result"
    }
   ],
   "source": [
    "df_numpy"
   ]
  },
  {
   "cell_type": "code",
   "execution_count": 50,
   "metadata": {},
   "outputs": [
    {
     "data": {
      "text/plain": [
       "(523, 21)"
      ]
     },
     "execution_count": 50,
     "metadata": {},
     "output_type": "execute_result"
    }
   ],
   "source": [
    "df_numpy.shape"
   ]
  },
  {
   "cell_type": "code",
   "execution_count": 54,
   "metadata": {},
   "outputs": [],
   "source": [
    "# extract column 1 from the numpy array\n",
    "df_numpy_1=np.array([row[1] for row in df_numpy])"
   ]
  },
  {
   "cell_type": "code",
   "execution_count": 58,
   "metadata": {},
   "outputs": [
    {
     "name": "stdout",
     "output_type": "stream",
     "text": [
      "101.24521072796935\n",
      "93.0\n",
      "[ 34.25 149.  ]\n"
     ]
    }
   ],
   "source": [
    "# get the common statistic value from the first column\n",
    "print(np.mean(df_numpy_1[1:].astype('float')))\n",
    "print(np.median(df_numpy_1[1:].astype('float')))\n",
    "print(np.percentile(df_numpy_1[1:].astype('float'),(25,75)))"
   ]
  },
  {
   "cell_type": "code",
   "execution_count": 60,
   "metadata": {},
   "outputs": [
    {
     "data": {
      "text/plain": [
       "array([0.35073069, 0.32776618, 0.20041754, 0.34029228, 0.25469729,\n",
       "       0.36325678, 0.31941545, 0.24008351, 0.24843424, 0.23799582,\n",
       "       0.2651357 , 0.28183716, 0.24217119, 0.27557411, 0.26931106,\n",
       "       0.23590814, 0.23799582, 0.2045929 , 0.29227557, 0.25052192,\n",
       "       0.3611691 , 0.28183716, 0.29853862, 0.29018789, 0.32359081,\n",
       "       0.2045929 , 0.18162839, 0.22964509, 0.14613779, 0.08977035,\n",
       "       0.07724426, 0.06263048, 0.04384134, 0.04592902, 0.03131524,\n",
       "       0.02296451, 0.01461378, 0.02505219, 0.01043841, 0.03549061,\n",
       "       0.02296451, 0.05636743, 0.0480167 , 0.06263048, 0.10020877,\n",
       "       0.07724426, 0.06680585, 0.10229645, 0.13987474, 0.22129436,\n",
       "       0.17327766, 0.23799582, 0.26931106, 0.39457203, 0.16492693,\n",
       "       0.34029228, 0.22964509, 0.32985386, 0.37995825, 0.28392484,\n",
       "       0.43215031, 0.52400835, 0.29436326, 0.40292276, 0.35281837,\n",
       "       0.29436326, 0.40292276, 0.74947808, 0.55949896, 0.35073069,\n",
       "       0.70563674, 0.38830898, 0.55532359, 0.50104384, 0.33820459,\n",
       "       0.55114823, 0.2776618 , 0.41962422, 0.49269311, 0.23173278,\n",
       "       0.15866388, 0.1085595 , 0.06263048, 0.06263048, 0.15448852,\n",
       "       0.09394572, 0.08559499, 0.04175365, 0.03131524, 0.02296451,\n",
       "       0.02087683, 0.01878914, 0.07306889, 0.04175365, 0.03966597,\n",
       "       0.10647182, 0.11064718, 0.16075157, 0.12943633, 0.19415449,\n",
       "       0.16283925, 0.17118998, 0.17536534, 0.12108559, 0.23799582,\n",
       "       0.30271399, 0.19415449, 0.26931106, 0.23799582, 0.17954071,\n",
       "       0.2651357 , 0.22129436, 0.44050104, 0.47807933, 0.30271399,\n",
       "       0.43841336, 0.55741127, 0.34655532, 0.35073069, 0.73068894,\n",
       "       0.46764092, 0.28392484, 0.58037578, 0.33611691, 0.80375783,\n",
       "       0.48016701, 0.59290188, 0.43841336, 0.26096033, 0.217119  ,\n",
       "       0.29227557, 0.20668058, 0.07306889, 0.02922756, 0.07098121,\n",
       "       0.01461378, 0.01461378, 0.00835073, 0.00835073, 0.02087683,\n",
       "       0.0125261 , 0.0125261 , 0.02505219, 0.04175365, 0.02922756,\n",
       "       0.06889353, 0.04175365, 0.05219207, 0.19415449, 0.15031315,\n",
       "       0.11273486, 0.36534447, 0.26304802, 0.12526096, 0.40292276,\n",
       "       0.14196242, 0.38204593, 0.3256785 , 1.        , 0.29853862,\n",
       "       0.40292276, 0.21920668, 0.28392484, 0.18997912, 0.3131524 ,\n",
       "       0.17118998, 0.13361169, 0.20876827, 0.19832985, 0.28392484,\n",
       "       0.16701461, 0.25469729, 0.24425887, 0.17536534, 0.2776618 ,\n",
       "       0.12943633, 0.44050104, 0.29853862, 0.26722338, 0.21920668,\n",
       "       0.29227557, 0.10647182, 0.14613779, 0.0960334 , 0.03549061,\n",
       "       0.04384134, 0.10647182, 0.04592902, 0.02296451, 0.00626305,\n",
       "       0.02087683, 0.00835073, 0.00626305, 0.01878914, 0.02922756,\n",
       "       0.02505219, 0.04592902, 0.08977035, 0.05636743, 0.13987474,\n",
       "       0.16283925, 0.12734864, 0.12943633, 0.08350731, 0.2045929 ,\n",
       "       0.22964509, 0.29645094, 0.11064718, 0.08141962, 0.63465553,\n",
       "       0.6263048 , 0.24008351, 0.36743215, 0.36743215, 0.32776618,\n",
       "       0.39248434, 0.26722338, 0.34446764, 0.26931106, 0.41127349,\n",
       "       0.26931106, 0.45302714, 0.22755741, 0.44258873, 0.55323591,\n",
       "       0.31106472, 0.29853862, 0.34446764, 0.41336117, 0.41127349,\n",
       "       0.44050104, 0.36951983, 0.35073069, 0.22964509, 0.13569937,\n",
       "       0.217119  , 0.17745303, 0.11273486, 0.03757829, 0.03340292,\n",
       "       0.02922756, 0.01461378, 0.05636743, 0.03340292, 0.02296451,\n",
       "       0.00417537, 0.00835073, 0.01461378, 0.03131524, 0.06263048,\n",
       "       0.06471816, 0.05219207, 0.10438413, 0.07724426, 0.12317328,\n",
       "       0.12108559, 0.08768267, 0.18997912, 0.17954071, 0.08559499,\n",
       "       0.09812109, 0.34655532, 0.23590814, 0.12943633, 0.17118998,\n",
       "       0.11691023, 0.0960334 , 0.10020877, 0.25887265, 0.15448852,\n",
       "       0.24217119, 0.25052192, 0.21085595, 0.2526096 , 0.33402923,\n",
       "       0.41544885, 0.30688935, 0.27139875, 0.36534447, 0.3256785 ,\n",
       "       0.38622129, 0.25678497, 0.31524008, 0.3131524 , 0.35281837,\n",
       "       0.32150313, 0.14196242, 0.19415449, 0.15448852, 0.11691023,\n",
       "       0.07306889, 0.05010438, 0.02296451, 0.07306889, 0.02296451,\n",
       "       0.04592902, 0.01670146, 0.01043841, 0.0480167 , 0.05636743,\n",
       "       0.06889353, 0.15448852, 0.11899791, 0.19832985, 0.15240084,\n",
       "       0.35699374, 0.43006263, 0.3006263 , 0.32359081, 0.39874739,\n",
       "       0.26096033, 0.32776618, 0.2526096 , 0.12317328, 0.69519833,\n",
       "       0.30271399, 0.434238  , 0.36325678, 0.26722338, 0.39665971,\n",
       "       0.47599165, 0.31106472, 0.37787056, 0.27348643, 0.47390397,\n",
       "       0.32985386, 0.35073069, 0.37787056, 0.28810021, 0.26931106,\n",
       "       0.33611691, 0.2526096 , 0.26722338, 0.3131524 , 0.30480167,\n",
       "       0.24008351, 0.25052192, 0.29227557, 0.15240084, 0.18997912,\n",
       "       0.14822547, 0.12734864, 0.03966597, 0.03340292, 0.02296451,\n",
       "       0.03549061, 0.02922756, 0.02713987, 0.04592902, 0.08768267,\n",
       "       0.00835073, 0.03757829, 0.0125261 , 0.02087683, 0.12526096,\n",
       "       0.21503132, 0.06471816, 0.21503132, 0.09185804, 0.18997912,\n",
       "       0.17327766, 0.23173278, 0.18997912, 0.34029228, 0.05845511,\n",
       "       0.22129436, 0.60751566, 0.38622129, 0.41127349, 0.30688935,\n",
       "       0.40083507, 0.39665971, 0.30688935, 0.27348643, 0.31106472,\n",
       "       0.20668058, 0.48643006, 0.30480167, 0.37995825, 0.14196242,\n",
       "       0.37578288, 0.29645094, 0.16701461, 0.40501044, 0.59707724,\n",
       "       0.26931106, 0.19415449, 0.41544885, 0.25052192, 0.31524008,\n",
       "       0.18371608, 0.18162839, 0.13987474, 0.1085595 , 0.13569937,\n",
       "       0.0125261 , 0.13361169, 0.03757829, 0.00626305, 0.        ,\n",
       "       0.02713987, 0.01878914, 0.00835073, 0.01670146, 0.02505219,\n",
       "       0.02713987, 0.06471816, 0.07306889, 0.01670146, 0.15240084,\n",
       "       0.16075157, 0.04384134, 0.217119  , 0.21920668, 0.19206681,\n",
       "       0.40083507, 0.00417537, 0.13987474, 0.5908142 , 0.28183716,\n",
       "       0.26931106, 0.42379958, 0.31732777, 0.22338205, 0.38622129,\n",
       "       0.22964509, 0.28810021, 0.20876827, 0.47599165, 0.27139875,\n",
       "       0.28601253, 0.49060543, 0.28810021, 0.34655532, 0.25469729,\n",
       "       0.31106472, 0.25887265, 0.39039666, 0.40709812, 0.27139875,\n",
       "       0.26304802, 0.32150313, 0.31106472, 0.22129436, 0.31524008,\n",
       "       0.20876827, 0.18997912, 0.0960334 , 0.07933194, 0.02713987,\n",
       "       0.04592902, 0.06889353, 0.01878914, 0.02922756, 0.10020877,\n",
       "       0.01461378, 0.03757829, 0.0125261 , 0.04384134, 0.06263048,\n",
       "       0.04384134, 0.16492693, 0.13361169, 0.11482255, 0.03757829,\n",
       "       0.21085595, 0.13152401, 0.12317328, 0.0125261 , 0.05427975,\n",
       "       0.3131524 , 0.16701461, 0.17118998, 0.12108559, 0.17536534,\n",
       "       0.12317328, 0.12526096, 0.24217119, 0.20668058, 0.23382046,\n",
       "       0.41127349, 0.24217119, 0.44885177, 0.17118998, 0.32359081,\n",
       "       0.16701461, 0.02713987, 0.14613779, 0.81628392, 0.37160752,\n",
       "       0.25887265, 0.49060543, 0.18371608, 0.39039666, 0.29227557,\n",
       "       0.23173278, 0.15031315, 0.1565762 , 0.09185804, 0.08350731,\n",
       "       0.07724426, 0.02087683, 0.0125261 , 0.01461378, 0.01043841,\n",
       "       0.02087683, 0.02296451, 0.03340292, 0.04175365, 0.03549061,\n",
       "       0.04384134, 0.07098121, 0.05845511, 0.09185804, 0.06889353,\n",
       "       0.17745303, 0.03340292, 0.19832985, 0.08977035, 0.07306889,\n",
       "       0.06263048, 0.54070981])"
      ]
     },
     "execution_count": 60,
     "metadata": {},
     "output_type": "execute_result"
    }
   ],
   "source": [
    "# normalize the value of the df_numpy_1\n",
    "(df_numpy_1[1:].astype('float') - np.min(df_numpy_1[1:].astype('float')))  /  (np.max(df_numpy_1[1:].astype('float')) - np.min(df_numpy_1[1:].astype('float')))"
   ]
  },
  {
   "cell_type": "code",
   "execution_count": 65,
   "metadata": {},
   "outputs": [
    {
     "data": {
      "text/plain": [
       "array([[b'Date', b'BUDAPEST', b'BARANYA', ..., b'VAS', b'VESZPREM',\n",
       "        b'ZALA'],\n",
       "       [b'03/01/2005', b'168', b'79', ..., b'29', b'87', b'68'],\n",
       "       [b'10/01/2005', b'157', b'60', ..., b'53', b'68', b'26'],\n",
       "       ...,\n",
       "       [b'15/12/2014', b'35', b'7', ..., b'0', b'17', b'10'],\n",
       "       [b'22/12/2014', b'30', b'23', ..., b'1', b'83', b'2'],\n",
       "       [b'29/12/2014', b'259', b'42', ..., b'11', b'103', b'25']],\n",
       "      dtype='|S10')"
      ]
     },
     "execution_count": 65,
     "metadata": {},
     "output_type": "execute_result"
    }
   ],
   "source": [
    "# insert random values as in the df_numpy\n",
    "np.random.seed(100)\n",
    "df_numpy[np.random.randint(523,size=20),np.random.randint(21,size=20)]=np.nan\n",
    "df_numpy"
   ]
  },
  {
   "cell_type": "code",
   "execution_count": 75,
   "metadata": {},
   "outputs": [
    {
     "data": {
      "text/plain": [
       "(array([  1,   3,  48,  52,  78,  85,  92, 134, 227, 279, 315, 316, 335,\n",
       "        349, 385, 414, 430, 506, 519], dtype=int64),\n",
       " array([16,  1, 16, 13, 18,  5, 12,  9, 15, 16, 14, 12,  9,  1, 11, 17,  7,\n",
       "         6,  8], dtype=int64))"
      ]
     },
     "execution_count": 75,
     "metadata": {},
     "output_type": "execute_result"
    }
   ],
   "source": [
    "# find the position/index of missing values\n",
    "np.where(np.isnan(df_numpy[1:,1:].astype('float')))"
   ]
  },
  {
   "cell_type": "code",
   "execution_count": 77,
   "metadata": {},
   "outputs": [
    {
     "data": {
      "text/plain": [
       "19"
      ]
     },
     "execution_count": 77,
     "metadata": {},
     "output_type": "execute_result"
    }
   ],
   "source": [
    "# find the total count of missing value\n",
    "np.isnan(df_numpy[1:,1:].astype('float')).sum()"
   ]
  },
  {
   "cell_type": "code",
   "execution_count": 84,
   "metadata": {},
   "outputs": [],
   "source": [
    "# visualization"
   ]
  },
  {
   "cell_type": "code",
   "execution_count": 87,
   "metadata": {},
   "outputs": [
    {
     "data": {
      "text/plain": [
       "<matplotlib.axes._subplots.AxesSubplot at 0xaa416d340>"
      ]
     },
     "execution_count": 87,
     "metadata": {},
     "output_type": "execute_result"
    },
    {
     "data": {
      "image/png": "[encoded data removed]",
      "text/plain": [
       "<Figure size 432x288 with 1 Axes>"
      ]
     },
     "metadata": {
      "needs_background": "light"
     },
     "output_type": "display_data"
    }
   ],
   "source": [
    "sns.scatterplot(data=df,x='BUDAPEST',y='BARANYA') #using seaborn"
   ]
  },
  {
   "cell_type": "code",
   "execution_count": 89,
   "metadata": {},
   "outputs": [
    {
     "data": {
      "text/plain": [
       "<matplotlib.axes._subplots.AxesSubplot at 0xaa44209a0>"
      ]
     },
     "execution_count": 89,
     "metadata": {},
     "output_type": "execute_result"
    },
    {
     "data": {
      "image/png": "[encoded data removed]",
      "text/plain": [
       "<Figure size 432x288 with 1 Axes>"
      ]
     },
     "metadata": {
      "needs_background": "light"
     },
     "output_type": "display_data"
    }
   ],
   "source": [
    "df.plot(x='BUDAPEST',y='BARANYA',alpha=0.5,kind='scatter') #using matplotlib"
   ]
  },
  {
   "cell_type": "code",
   "execution_count": 92,
   "metadata": {},
   "outputs": [
    {
     "data": {
      "text/plain": [
       "<matplotlib.collections.PathCollection at 0xaa449b970>"
      ]
     },
     "execution_count": 92,
     "metadata": {},
     "output_type": "execute_result"
    },
    {
     "data": {
      "image/png": "[encoded data removed]",
      "text/plain": [
       "<Figure size 432x288 with 1 Axes>"
      ]
     },
     "metadata": {
      "needs_background": "light"
     },
     "output_type": "display_data"
    }
   ],
   "source": [
    "np.random.seed(100)\n",
    "N=522\n",
    "colors = np.random.rand(N)\n",
    "plt.scatter(df['BUDAPEST'],df['BARANYA'], c=colors) #using matplotlib"
   ]
  },
  {
   "cell_type": "code",
   "execution_count": null,
   "metadata": {},
   "outputs": [],
   "source": []
  }
 ],
 "metadata": {
  "kernelspec": {
   "display_name": "Python 3",
   "language": "python",
   "name": "python3"
  },
  "language_info": {
   "codemirror_mode": {
    "name": "ipython",
    "version": 3
   },
   "file_extension": ".py",
   "mimetype": "text/x-python",
   "name": "python",
   "nbconvert_exporter": "python",
   "pygments_lexer": "ipython3",
   "version": "3.8.3"
  }
 },
 "nbformat": 4,
 "nbformat_minor": 4
}
